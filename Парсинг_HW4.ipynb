{
 "cells": [
  {
   "cell_type": "markdown",
   "metadata": {
    "id": "hrbXGia7grF3"
   },
   "source": [
    "Развернуть у себя на компьютере/виртуальной машине/хостинге MongoDB и реализовать функцию, которая будет добавлять только новые вакансии/продукты в вашу базу."
   ]
  },
  {
   "cell_type": "code",
   "execution_count": 74,
   "metadata": {
    "colab": {
     "base_uri": "https://localhost:8080/"
    },
    "executionInfo": {
     "elapsed": 2701,
     "status": "ok",
     "timestamp": 1663519927509,
     "user": {
      "displayName": "Lada Zolotuhina",
      "userId": "17805931064849355466"
     },
     "user_tz": -180
    },
    "id": "ID88iSNdg3Ek",
    "outputId": "109b90d0-08ee-436a-891f-e4c877da15c0"
   },
   "outputs": [
    {
     "name": "stdout",
     "output_type": "stream",
     "text": [
      "\n",
      "WARNING: apt does not have a stable CLI interface. Use with caution in scripts.\n",
      "\n"
     ]
    }
   ],
   "source": [
    "!apt install mongodb > log"
   ]
  },
  {
   "cell_type": "code",
   "execution_count": 26,
   "metadata": {
    "colab": {
     "base_uri": "https://localhost:8080/"
    },
    "executionInfo": {
     "elapsed": 829,
     "status": "ok",
     "timestamp": 1663515336407,
     "user": {
      "displayName": "Lada Zolotuhina",
      "userId": "17805931064849355466"
     },
     "user_tz": -180
    },
    "id": "AvsgzjxxGBS3",
    "outputId": "5d1e65df-5693-4bba-d024-e3ff1909e62c"
   },
   "outputs": [
    {
     "name": "stdout",
     "output_type": "stream",
     "text": [
      " * Starting database mongodb\n",
      "   ...done.\n"
     ]
    }
   ],
   "source": [
    "!service mongodb start"
   ]
  },
  {
   "cell_type": "code",
   "execution_count": 27,
   "metadata": {
    "executionInfo": {
     "elapsed": 348,
     "status": "ok",
     "timestamp": 1663515339096,
     "user": {
      "displayName": "Lada Zolotuhina",
      "userId": "17805931064849355466"
     },
     "user_tz": -180
    },
    "id": "9XPc3KiGGIP8"
   },
   "outputs": [],
   "source": [
    "from pymongo import MongoClient"
   ]
  },
  {
   "cell_type": "code",
   "execution_count": 28,
   "metadata": {
    "executionInfo": {
     "elapsed": 821,
     "status": "ok",
     "timestamp": 1663515342627,
     "user": {
      "displayName": "Lada Zolotuhina",
      "userId": "17805931064849355466"
     },
     "user_tz": -180
    },
    "id": "DSzDCQzwGcJV"
   },
   "outputs": [],
   "source": [
    "client = MongoClient('127.0.0.1', 27017)"
   ]
  },
  {
   "cell_type": "code",
   "execution_count": 29,
   "metadata": {
    "colab": {
     "base_uri": "https://localhost:8080/"
    },
    "executionInfo": {
     "elapsed": 366,
     "status": "ok",
     "timestamp": 1663515349288,
     "user": {
      "displayName": "Lada Zolotuhina",
      "userId": "17805931064849355466"
     },
     "user_tz": -180
    },
    "id": "Z-gFxV0StFfM",
    "outputId": "95eb682f-9aa4-4338-868d-c88ecb30ab7c"
   },
   "outputs": [
    {
     "name": "stdout",
     "output_type": "stream",
     "text": [
      "['admin', 'config', 'local']\n"
     ]
    }
   ],
   "source": [
    "print(client.list_database_names()) "
   ]
  },
  {
   "cell_type": "code",
   "execution_count": 30,
   "metadata": {
    "colab": {
     "base_uri": "https://localhost:8080/",
     "height": 74
    },
    "executionInfo": {
     "elapsed": 15631,
     "status": "ok",
     "timestamp": 1663515369520,
     "user": {
      "displayName": "Lada Zolotuhina",
      "userId": "17805931064849355466"
     },
     "user_tz": -180
    },
    "id": "YaJNQwPEqgep",
    "outputId": "745450a7-21ce-4da8-d70d-6da8963cdf6f"
   },
   "outputs": [
    {
     "data": {
      "text/html": [
       "\n",
       "     <input type=\"file\" id=\"files-3f699d6d-3ac0-4760-88de-d6385b26bbef\" name=\"files[]\" multiple disabled\n",
       "        style=\"border:none\" />\n",
       "     <output id=\"result-3f699d6d-3ac0-4760-88de-d6385b26bbef\">\n",
       "      Upload widget is only available when the cell has been executed in the\n",
       "      current browser session. Please rerun this cell to enable.\n",
       "      </output>\n",
       "      <script>// Copyright 2017 Google LLC\n",
       "//\n",
       "// Licensed under the Apache License, Version 2.0 (the \"License\");\n",
       "// you may not use this file except in compliance with the License.\n",
       "// You may obtain a copy of the License at\n",
       "//\n",
       "//      http://www.apache.org/licenses/LICENSE-2.0\n",
       "//\n",
       "// Unless required by applicable law or agreed to in writing, software\n",
       "// distributed under the License is distributed on an \"AS IS\" BASIS,\n",
       "// WITHOUT WARRANTIES OR CONDITIONS OF ANY KIND, either express or implied.\n",
       "// See the License for the specific language governing permissions and\n",
       "// limitations under the License.\n",
       "\n",
       "/**\n",
       " * @fileoverview Helpers for google.colab Python module.\n",
       " */\n",
       "(function(scope) {\n",
       "function span(text, styleAttributes = {}) {\n",
       "  const element = document.createElement('span');\n",
       "  element.textContent = text;\n",
       "  for (const key of Object.keys(styleAttributes)) {\n",
       "    element.style[key] = styleAttributes[key];\n",
       "  }\n",
       "  return element;\n",
       "}\n",
       "\n",
       "// Max number of bytes which will be uploaded at a time.\n",
       "const MAX_PAYLOAD_SIZE = 100 * 1024;\n",
       "\n",
       "function _uploadFiles(inputId, outputId) {\n",
       "  const steps = uploadFilesStep(inputId, outputId);\n",
       "  const outputElement = document.getElementById(outputId);\n",
       "  // Cache steps on the outputElement to make it available for the next call\n",
       "  // to uploadFilesContinue from Python.\n",
       "  outputElement.steps = steps;\n",
       "\n",
       "  return _uploadFilesContinue(outputId);\n",
       "}\n",
       "\n",
       "// This is roughly an async generator (not supported in the browser yet),\n",
       "// where there are multiple asynchronous steps and the Python side is going\n",
       "// to poll for completion of each step.\n",
       "// This uses a Promise to block the python side on completion of each step,\n",
       "// then passes the result of the previous step as the input to the next step.\n",
       "function _uploadFilesContinue(outputId) {\n",
       "  const outputElement = document.getElementById(outputId);\n",
       "  const steps = outputElement.steps;\n",
       "\n",
       "  const next = steps.next(outputElement.lastPromiseValue);\n",
       "  return Promise.resolve(next.value.promise).then((value) => {\n",
       "    // Cache the last promise value to make it available to the next\n",
       "    // step of the generator.\n",
       "    outputElement.lastPromiseValue = value;\n",
       "    return next.value.response;\n",
       "  });\n",
       "}\n",
       "\n",
       "/**\n",
       " * Generator function which is called between each async step of the upload\n",
       " * process.\n",
       " * @param {string} inputId Element ID of the input file picker element.\n",
       " * @param {string} outputId Element ID of the output display.\n",
       " * @return {!Iterable<!Object>} Iterable of next steps.\n",
       " */\n",
       "function* uploadFilesStep(inputId, outputId) {\n",
       "  const inputElement = document.getElementById(inputId);\n",
       "  inputElement.disabled = false;\n",
       "\n",
       "  const outputElement = document.getElementById(outputId);\n",
       "  outputElement.innerHTML = '';\n",
       "\n",
       "  const pickedPromise = new Promise((resolve) => {\n",
       "    inputElement.addEventListener('change', (e) => {\n",
       "      resolve(e.target.files);\n",
       "    });\n",
       "  });\n",
       "\n",
       "  const cancel = document.createElement('button');\n",
       "  inputElement.parentElement.appendChild(cancel);\n",
       "  cancel.textContent = 'Cancel upload';\n",
       "  const cancelPromise = new Promise((resolve) => {\n",
       "    cancel.onclick = () => {\n",
       "      resolve(null);\n",
       "    };\n",
       "  });\n",
       "\n",
       "  // Wait for the user to pick the files.\n",
       "  const files = yield {\n",
       "    promise: Promise.race([pickedPromise, cancelPromise]),\n",
       "    response: {\n",
       "      action: 'starting',\n",
       "    }\n",
       "  };\n",
       "\n",
       "  cancel.remove();\n",
       "\n",
       "  // Disable the input element since further picks are not allowed.\n",
       "  inputElement.disabled = true;\n",
       "\n",
       "  if (!files) {\n",
       "    return {\n",
       "      response: {\n",
       "        action: 'complete',\n",
       "      }\n",
       "    };\n",
       "  }\n",
       "\n",
       "  for (const file of files) {\n",
       "    const li = document.createElement('li');\n",
       "    li.append(span(file.name, {fontWeight: 'bold'}));\n",
       "    li.append(span(\n",
       "        `(${file.type || 'n/a'}) - ${file.size} bytes, ` +\n",
       "        `last modified: ${\n",
       "            file.lastModifiedDate ? file.lastModifiedDate.toLocaleDateString() :\n",
       "                                    'n/a'} - `));\n",
       "    const percent = span('0% done');\n",
       "    li.appendChild(percent);\n",
       "\n",
       "    outputElement.appendChild(li);\n",
       "\n",
       "    const fileDataPromise = new Promise((resolve) => {\n",
       "      const reader = new FileReader();\n",
       "      reader.onload = (e) => {\n",
       "        resolve(e.target.result);\n",
       "      };\n",
       "      reader.readAsArrayBuffer(file);\n",
       "    });\n",
       "    // Wait for the data to be ready.\n",
       "    let fileData = yield {\n",
       "      promise: fileDataPromise,\n",
       "      response: {\n",
       "        action: 'continue',\n",
       "      }\n",
       "    };\n",
       "\n",
       "    // Use a chunked sending to avoid message size limits. See b/62115660.\n",
       "    let position = 0;\n",
       "    do {\n",
       "      const length = Math.min(fileData.byteLength - position, MAX_PAYLOAD_SIZE);\n",
       "      const chunk = new Uint8Array(fileData, position, length);\n",
       "      position += length;\n",
       "\n",
       "      const base64 = btoa(String.fromCharCode.apply(null, chunk));\n",
       "      yield {\n",
       "        response: {\n",
       "          action: 'append',\n",
       "          file: file.name,\n",
       "          data: base64,\n",
       "        },\n",
       "      };\n",
       "\n",
       "      let percentDone = fileData.byteLength === 0 ?\n",
       "          100 :\n",
       "          Math.round((position / fileData.byteLength) * 100);\n",
       "      percent.textContent = `${percentDone}% done`;\n",
       "\n",
       "    } while (position < fileData.byteLength);\n",
       "  }\n",
       "\n",
       "  // All done.\n",
       "  yield {\n",
       "    response: {\n",
       "      action: 'complete',\n",
       "    }\n",
       "  };\n",
       "}\n",
       "\n",
       "scope.google = scope.google || {};\n",
       "scope.google.colab = scope.google.colab || {};\n",
       "scope.google.colab._files = {\n",
       "  _uploadFiles,\n",
       "  _uploadFilesContinue,\n",
       "};\n",
       "})(self);\n",
       "</script> "
      ],
      "text/plain": [
       "<IPython.core.display.HTML object>"
      ]
     },
     "metadata": {},
     "output_type": "display_data"
    },
    {
     "name": "stdout",
     "output_type": "stream",
     "text": [
      "Saving Vacancy_HH.csv to Vacancy_HH (1).csv\n"
     ]
    }
   ],
   "source": [
    "from google.colab import files  #импортируем данные из дз№3\n",
    "uploaded = files.upload()"
   ]
  },
  {
   "cell_type": "code",
   "execution_count": 31,
   "metadata": {
    "executionInfo": {
     "elapsed": 340,
     "status": "ok",
     "timestamp": 1663515372296,
     "user": {
      "displayName": "Lada Zolotuhina",
      "userId": "17805931064849355466"
     },
     "user_tz": -180
    },
    "id": "V8-x0k2nNO2C"
   },
   "outputs": [],
   "source": [
    "import pandas as pd\n",
    "df_new_hh = pd.read_csv('Vacancy_HH.csv',sep=',') #открыли файл\n"
   ]
  },
  {
   "cell_type": "code",
   "execution_count": 12,
   "metadata": {
    "executionInfo": {
     "elapsed": 419,
     "status": "ok",
     "timestamp": 1663508315447,
     "user": {
      "displayName": "Lada Zolotuhina",
      "userId": "17805931064849355466"
     },
     "user_tz": -180
    },
    "id": "sWOvqp2PuwO8"
   },
   "outputs": [],
   "source": [
    "#df_new_hh"
   ]
  },
  {
   "cell_type": "code",
   "execution_count": 32,
   "metadata": {
    "executionInfo": {
     "elapsed": 345,
     "status": "ok",
     "timestamp": 1663515378083,
     "user": {
      "displayName": "Lada Zolotuhina",
      "userId": "17805931064849355466"
     },
     "user_tz": -180
    },
    "id": "kggzMosyu0lS"
   },
   "outputs": [],
   "source": [
    "#Создаём ссылку на базу данных \n",
    "my_db = client['db_vacancies_matematik']\n",
    "collection_vacancies = my_db['vacancies']"
   ]
  },
  {
   "cell_type": "code",
   "execution_count": 33,
   "metadata": {
    "colab": {
     "base_uri": "https://localhost:8080/"
    },
    "executionInfo": {
     "elapsed": 390,
     "status": "ok",
     "timestamp": 1663515381152,
     "user": {
      "displayName": "Lada Zolotuhina",
      "userId": "17805931064849355466"
     },
     "user_tz": -180
    },
    "id": "xihAdFCx2OWI",
    "outputId": "1554f055-66db-411c-cd9a-017fb40d4c2f"
   },
   "outputs": [
    {
     "data": {
      "text/plain": [
       "100"
      ]
     },
     "execution_count": 33,
     "metadata": {},
     "output_type": "execute_result"
    }
   ],
   "source": [
    "len(df_new_hh)"
   ]
  },
  {
   "cell_type": "code",
   "execution_count": 44,
   "metadata": {
    "executionInfo": {
     "elapsed": 954,
     "status": "ok",
     "timestamp": 1663517574043,
     "user": {
      "displayName": "Lada Zolotuhina",
      "userId": "17805931064849355466"
     },
     "user_tz": -180
    },
    "id": "-rXItn5I6yDb"
   },
   "outputs": [],
   "source": [
    "columns_df = df_new_hh.columns\n",
    "\n",
    "for index, row in df_new_hh.iterrows():\n",
    "    vacancy_dict ={}\n",
    "    for column in columns_df:\n",
    "        vacancy_dict[column] = row[column]\n",
    "    #print(vacancy_dict)\n",
    "    my_db.vacancies.insert_one(vacancy_dict)"
   ]
  },
  {
   "cell_type": "code",
   "execution_count": 45,
   "metadata": {
    "colab": {
     "base_uri": "https://localhost:8080/"
    },
    "executionInfo": {
     "elapsed": 947,
     "status": "ok",
     "timestamp": 1663517605894,
     "user": {
      "displayName": "Lada Zolotuhina",
      "userId": "17805931064849355466"
     },
     "user_tz": -180
    },
    "id": "JyshjzV2weNa",
    "outputId": "3e411d6a-0b28-4dc4-921b-2c6eacb4cc6b"
   },
   "outputs": [
    {
     "data": {
      "text/plain": [
       "['admin', 'config', 'db_vacancies_matematik', 'local']"
      ]
     },
     "execution_count": 45,
     "metadata": {},
     "output_type": "execute_result"
    }
   ],
   "source": [
    "client.list_database_names()\n",
    "\n"
   ]
  },
  {
   "cell_type": "code",
   "execution_count": 46,
   "metadata": {
    "colab": {
     "base_uri": "https://localhost:8080/"
    },
    "executionInfo": {
     "elapsed": 371,
     "status": "ok",
     "timestamp": 1663517652985,
     "user": {
      "displayName": "Lada Zolotuhina",
      "userId": "17805931064849355466"
     },
     "user_tz": -180
    },
    "id": "EohZGjORweRx",
    "outputId": "192e01a4-c254-4294-932c-9a1ec8d2e8fd"
   },
   "outputs": [
    {
     "name": "stdout",
     "output_type": "stream",
     "text": [
      "100\n"
     ]
    }
   ],
   "source": [
    "num_vacancies = my_db.vacancies.count_documents({})\n",
    "print(num_vacancies)"
   ]
  },
  {
   "cell_type": "code",
   "execution_count": 47,
   "metadata": {
    "executionInfo": {
     "elapsed": 459,
     "status": "ok",
     "timestamp": 1663517684594,
     "user": {
      "displayName": "Lada Zolotuhina",
      "userId": "17805931064849355466"
     },
     "user_tz": -180
    },
    "id": "xOWceLTjweWe"
   },
   "outputs": [],
   "source": [
    "from bs4 import BeautifulSoup as bs\n",
    "import requests\n",
    "from time import sleep\n",
    "from pprint import pprint"
   ]
  },
  {
   "cell_type": "markdown",
   "metadata": {
    "id": "BB4IAR_YYaHw"
   },
   "source": [
    "Добавляем новые вакансии в Базу Данных\n"
   ]
  },
  {
   "cell_type": "code",
   "execution_count": 48,
   "metadata": {
    "executionInfo": {
     "elapsed": 368,
     "status": "ok",
     "timestamp": 1663517810500,
     "user": {
      "displayName": "Lada Zolotuhina",
      "userId": "17805931064849355466"
     },
     "user_tz": -180
    },
    "id": "sfYVcVEv4pVi"
   },
   "outputs": [],
   "source": [
    "def add_vacancies(url, headers):\n",
    "  response = requests.get(url = url, headers = headers)\n",
    "  print(response.status_code)\n",
    "  dom = bs(response.text, 'html.parser')\n",
    "  tag_vacancy = dom.find_all('div', class_= 'vacancy-serp-item-body__main-info')\n",
    "  print(f'считано - {len(tag_vacancy)} вакансий')\n",
    "  site_name = 'hh.ru'\n",
    "  number_new_vacancies = 0\n",
    "  for vacancy in tag_vacancy:\n",
    "    vacancy_link =  vacancy.find('a', attrs={'class': 'serp-item__title', 'data-qa': 'serp-item__title'}).get('href')\n",
    "    if my_db.vacancies.count_documents({'ссылка на вакансию': vacancy_link}) == 0:\n",
    "      vacancy_title = vacancy.find('a', attrs={'class': 'serp-item__title', 'data-qa': 'serp-item__title'}).string\n",
    "      if vacancy.find('span', attrs={'class': 'bloko-header-section-3', 'data-qa': 'vacancy-serp__vacancy-compensation'}) == None:\n",
    "        min_compensation, max_compensation, currency = None, None, None\n",
    "      else:\n",
    "        compensation = vacancy.find('span', attrs={'class': 'bloko-header-section-3', 'data-qa': 'vacancy-serp__vacancy-compensation'}).text.replace(' ', '').split()\n",
    "        if compensation[0] == 'от':\n",
    "          min_compensation = int(compensation[1])\n",
    "          max_compensation = None\n",
    "          currency = compensation[2]\n",
    "        elif compensation[0] == 'до':\n",
    "          min_compensation = None\n",
    "          max_compensation = int(compensation[1])\n",
    "          currency = compensation[2]\n",
    "        else:\n",
    "          min_compensation = int(compensation[0])\n",
    "          max_compensation = int(compensation[2])\n",
    "          currency = compensation[3]\n",
    "      my_db.vacancies.insert_one({\n",
    "          'должность': vacancy_title,\n",
    "          'минимальная зарплата' : min_compensation,\n",
    "          'максимальная зарплата' : max_compensation,\n",
    "          'валюта' : currency,\n",
    "          'ссылка на вакансию' : vacancy_link,\n",
    "          'сайт' : site_name\n",
    "           })\n",
    "      number_new_vacancies +=1\n",
    "  print(f'добавлено {number_new_vacancies} новых вакансий')  \n",
    "      "
   ]
  },
  {
   "cell_type": "code",
   "execution_count": 51,
   "metadata": {
    "colab": {
     "base_uri": "https://localhost:8080/"
    },
    "executionInfo": {
     "elapsed": 1458,
     "status": "ok",
     "timestamp": 1663518106160,
     "user": {
      "displayName": "Lada Zolotuhina",
      "userId": "17805931064849355466"
     },
     "user_tz": -180
    },
    "id": "tK7I_75NY2-k",
    "outputId": "81049f1d-3a6a-4888-9945-94aa81b48693"
   },
   "outputs": [
    {
     "name": "stdout",
     "output_type": "stream",
     "text": [
      "200\n",
      "считано - 56 вакансий\n",
      "добавлено 41 новых вакансий\n"
     ]
    }
   ],
   "source": [
    "add_vacancies('https://hh.ru/vacancies/matematik', {\n",
    "    'User-Agent': 'Mozilla/5.0 (Windows NT 10.0; Win64; x64) AppleWebKit/537.36 (KHTML, like Gecko) Chrome/104.0.0.0 Safari/537.36',\n",
    "})"
   ]
  },
  {
   "cell_type": "code",
   "execution_count": 52,
   "metadata": {
    "colab": {
     "base_uri": "https://localhost:8080/"
    },
    "executionInfo": {
     "elapsed": 615,
     "status": "ok",
     "timestamp": 1663518137424,
     "user": {
      "displayName": "Lada Zolotuhina",
      "userId": "17805931064849355466"
     },
     "user_tz": -180
    },
    "id": "eQr5tKjk4prb",
    "outputId": "2abafb32-2c66-415d-f8ce-c01277addd74"
   },
   "outputs": [
    {
     "name": "stdout",
     "output_type": "stream",
     "text": [
      "141\n"
     ]
    }
   ],
   "source": [
    "num_vacancies = my_db.vacancies.count_documents({})\n",
    "print(num_vacancies)"
   ]
  },
  {
   "cell_type": "markdown",
   "metadata": {
    "id": "8CHEx5FvaNHR"
   },
   "source": [
    "Написать функцию, которая производит поиск и выводит на экран вакансии с заработной платой больше введённой суммы (необходимо анализировать оба поля зарплаты)."
   ]
  },
  {
   "cell_type": "code",
   "execution_count": 75,
   "metadata": {
    "executionInfo": {
     "elapsed": 1046,
     "status": "ok",
     "timestamp": 1663520106125,
     "user": {
      "displayName": "Lada Zolotuhina",
      "userId": "17805931064849355466"
     },
     "user_tz": -180
    },
    "id": "MqPTK1aIhLGT"
   },
   "outputs": [],
   "source": [
    "def job_search_by_salary(salary_min, salary_max):\n",
    "    count = 0 \n",
    "    for i in my_db.vacancies.find({'зарплата от': {'$gt': salary_min}, 'зарплата до': {'$gt': salary_max}}):\n",
    "        pprint(i)\n",
    "        print('')\n",
    "        count += 1\n",
    "    return f'найдено {count} подходящих вакансий'"
   ]
  },
  {
   "cell_type": "code",
   "execution_count": 77,
   "metadata": {
    "colab": {
     "base_uri": "https://localhost:8080/",
     "height": 36
    },
    "executionInfo": {
     "elapsed": 355,
     "status": "ok",
     "timestamp": 1663520195113,
     "user": {
      "displayName": "Lada Zolotuhina",
      "userId": "17805931064849355466"
     },
     "user_tz": -180
    },
    "id": "kSqOotIwhnCj",
    "outputId": "523862fd-333f-4077-d7eb-5cd160167021"
   },
   "outputs": [
    {
     "data": {
      "application/vnd.google.colaboratory.intrinsic+json": {
       "type": "string"
      },
      "text/plain": [
       "'найдено 0 подходящих вакансий'"
      ]
     },
     "execution_count": 77,
     "metadata": {},
     "output_type": "execute_result"
    }
   ],
   "source": [
    "job_search_by_salary(60000, 100000)"
   ]
  },
  {
   "cell_type": "code",
   "execution_count": 58,
   "metadata": {
    "colab": {
     "base_uri": "https://localhost:8080/"
    },
    "executionInfo": {
     "elapsed": 377,
     "status": "ok",
     "timestamp": 1663518640234,
     "user": {
      "displayName": "Lada Zolotuhina",
      "userId": "17805931064849355466"
     },
     "user_tz": -180
    },
    "id": "nAEQ5E3RaHyS",
    "outputId": "4a8323e7-6818-46dc-9d97-9632dd3dec55"
   },
   "outputs": [
    {
     "name": "stdout",
     "output_type": "stream",
     "text": [
      "{'_id': ObjectId('63274384ca1755779e049778'),\n",
      " 'валюта': 'руб.',\n",
      " 'должность': 'Математик - программист C/Python',\n",
      " 'максимальная зарплата': 140000.0,\n",
      " 'минимальная зарплата': 90000.0,\n",
      " 'сайт': 'hh.ru',\n",
      " 'ссылка на вакансию': 'https://hh.ru/vacancy/69036019?query=%D0%BC%D0%B0%D1%82%D0%B5%D0%BC%D0%B0%D1%82%D0%B8%D0%BA'}\n",
      "{'_id': ObjectId('63274384ca1755779e049785'),\n",
      " 'валюта': 'руб.',\n",
      " 'должность': 'Преподаватель математики',\n",
      " 'максимальная зарплата': 120000.0,\n",
      " 'минимальная зарплата': 80000.0,\n",
      " 'сайт': 'hh.ru',\n",
      " 'ссылка на вакансию': 'https://hh.ru/vacancy/69494784?query=%D0%BC%D0%B0%D1%82%D0%B5%D0%BC%D0%B0%D1%82%D0%B8%D0%BA'}\n",
      "{'_id': ObjectId('63274384ca1755779e049788'),\n",
      " 'валюта': 'руб.',\n",
      " 'должность': 'Аналитик',\n",
      " 'максимальная зарплата': 160000.0,\n",
      " 'минимальная зарплата': 140000.0,\n",
      " 'сайт': 'hh.ru',\n",
      " 'ссылка на вакансию': 'https://hh.ru/vacancy/69589543?query=%D0%BC%D0%B0%D1%82%D0%B5%D0%BC%D0%B0%D1%82%D0%B8%D0%BA'}\n",
      "{'_id': ObjectId('63274384ca1755779e04978e'),\n",
      " 'валюта': 'руб.',\n",
      " 'должность': 'Системный аналитик',\n",
      " 'максимальная зарплата': 250000.0,\n",
      " 'минимальная зарплата': 235000.0,\n",
      " 'сайт': 'hh.ru',\n",
      " 'ссылка на вакансию': 'https://hh.ru/vacancy/69569042?query=%D0%BC%D0%B0%D1%82%D0%B5%D0%BC%D0%B0%D1%82%D0%B8%D0%BA'}\n",
      "{'_id': ObjectId('63274384ca1755779e049796'),\n",
      " 'валюта': 'руб.',\n",
      " 'должность': 'Доцент Департамента анализа данных и машинного обучения',\n",
      " 'максимальная зарплата': 250000.0,\n",
      " 'минимальная зарплата': 90000.0,\n",
      " 'сайт': 'hh.ru',\n",
      " 'ссылка на вакансию': 'https://hh.ru/vacancy/53555736?query=%D0%BC%D0%B0%D1%82%D0%B5%D0%BC%D0%B0%D1%82%D0%B8%D0%BA'}\n",
      "{'_id': ObjectId('63274384ca1755779e04979a'),\n",
      " 'валюта': 'руб.',\n",
      " 'должность': 'Middle/Senior Data Scientist',\n",
      " 'максимальная зарплата': 400000.0,\n",
      " 'минимальная зарплата': 200000.0,\n",
      " 'сайт': 'hh.ru',\n",
      " 'ссылка на вакансию': 'https://hh.ru/vacancy/69492360?query=%D0%BC%D0%B0%D1%82%D0%B5%D0%BC%D0%B0%D1%82%D0%B8%D0%BA'}\n",
      "{'_id': ObjectId('63274384ca1755779e04979d'),\n",
      " 'валюта': 'руб.',\n",
      " 'должность': 'C++ Math Developer',\n",
      " 'максимальная зарплата': 350000.0,\n",
      " 'минимальная зарплата': 200000.0,\n",
      " 'сайт': 'hh.ru',\n",
      " 'ссылка на вакансию': 'https://hh.ru/vacancy/68139283?query=%D0%BC%D0%B0%D1%82%D0%B5%D0%BC%D0%B0%D1%82%D0%B8%D0%BA'}\n",
      "{'_id': ObjectId('63274384ca1755779e04979f'),\n",
      " 'валюта': 'руб.',\n",
      " 'должность': 'Программист С++/Qt, junior',\n",
      " 'максимальная зарплата': 130000.0,\n",
      " 'минимальная зарплата': 80000.0,\n",
      " 'сайт': 'hh.ru',\n",
      " 'ссылка на вакансию': 'https://hh.ru/vacancy/69406276?query=%D0%BC%D0%B0%D1%82%D0%B5%D0%BC%D0%B0%D1%82%D0%B8%D0%BA'}\n",
      "{'_id': ObjectId('63274384ca1755779e0497aa'),\n",
      " 'валюта': 'руб.',\n",
      " 'должность': 'Математик - программист C/Python',\n",
      " 'максимальная зарплата': 140000.0,\n",
      " 'минимальная зарплата': 90000.0,\n",
      " 'сайт': 'hh.ru',\n",
      " 'ссылка на вакансию': 'https://hh.ru/vacancy/69036019?query=%D0%BC%D0%B0%D1%82%D0%B5%D0%BC%D0%B0%D1%82%D0%B8%D0%BA'}\n",
      "{'_id': ObjectId('63274384ca1755779e0497b7'),\n",
      " 'валюта': 'руб.',\n",
      " 'должность': 'Преподаватель математики',\n",
      " 'максимальная зарплата': 120000.0,\n",
      " 'минимальная зарплата': 80000.0,\n",
      " 'сайт': 'hh.ru',\n",
      " 'ссылка на вакансию': 'https://hh.ru/vacancy/69494784?query=%D0%BC%D0%B0%D1%82%D0%B5%D0%BC%D0%B0%D1%82%D0%B8%D0%BA'}\n",
      "{'_id': ObjectId('63274384ca1755779e0497ba'),\n",
      " 'валюта': 'руб.',\n",
      " 'должность': 'Аналитик',\n",
      " 'максимальная зарплата': 160000.0,\n",
      " 'минимальная зарплата': 140000.0,\n",
      " 'сайт': 'hh.ru',\n",
      " 'ссылка на вакансию': 'https://hh.ru/vacancy/69589543?query=%D0%BC%D0%B0%D1%82%D0%B5%D0%BC%D0%B0%D1%82%D0%B8%D0%BA'}\n",
      "{'_id': ObjectId('63274384ca1755779e0497c0'),\n",
      " 'валюта': 'руб.',\n",
      " 'должность': 'Системный аналитик',\n",
      " 'максимальная зарплата': 250000.0,\n",
      " 'минимальная зарплата': 235000.0,\n",
      " 'сайт': 'hh.ru',\n",
      " 'ссылка на вакансию': 'https://hh.ru/vacancy/69569042?query=%D0%BC%D0%B0%D1%82%D0%B5%D0%BC%D0%B0%D1%82%D0%B8%D0%BA'}\n",
      "{'_id': ObjectId('63274384ca1755779e0497c8'),\n",
      " 'валюта': 'руб.',\n",
      " 'должность': 'Доцент Департамента анализа данных и машинного обучения',\n",
      " 'максимальная зарплата': 250000.0,\n",
      " 'минимальная зарплата': 90000.0,\n",
      " 'сайт': 'hh.ru',\n",
      " 'ссылка на вакансию': 'https://hh.ru/vacancy/53555736?query=%D0%BC%D0%B0%D1%82%D0%B5%D0%BC%D0%B0%D1%82%D0%B8%D0%BA'}\n",
      "{'_id': ObjectId('63274384ca1755779e0497cc'),\n",
      " 'валюта': 'руб.',\n",
      " 'должность': 'Middle/Senior Data Scientist',\n",
      " 'максимальная зарплата': 400000.0,\n",
      " 'минимальная зарплата': 200000.0,\n",
      " 'сайт': 'hh.ru',\n",
      " 'ссылка на вакансию': 'https://hh.ru/vacancy/69492360?query=%D0%BC%D0%B0%D1%82%D0%B5%D0%BC%D0%B0%D1%82%D0%B8%D0%BA'}\n",
      "{'_id': ObjectId('63274384ca1755779e0497cf'),\n",
      " 'валюта': 'руб.',\n",
      " 'должность': 'C++ Math Developer',\n",
      " 'максимальная зарплата': 350000.0,\n",
      " 'минимальная зарплата': 200000.0,\n",
      " 'сайт': 'hh.ru',\n",
      " 'ссылка на вакансию': 'https://hh.ru/vacancy/68139283?query=%D0%BC%D0%B0%D1%82%D0%B5%D0%BC%D0%B0%D1%82%D0%B8%D0%BA'}\n",
      "{'_id': ObjectId('63274384ca1755779e0497d1'),\n",
      " 'валюта': 'руб.',\n",
      " 'должность': 'Программист С++/Qt, junior',\n",
      " 'максимальная зарплата': 130000.0,\n",
      " 'минимальная зарплата': 80000.0,\n",
      " 'сайт': 'hh.ru',\n",
      " 'ссылка на вакансию': 'https://hh.ru/vacancy/69406276?query=%D0%BC%D0%B0%D1%82%D0%B5%D0%BC%D0%B0%D1%82%D0%B8%D0%BA'}\n",
      "{'_id': ObjectId('63274599ca1755779e0497db'),\n",
      " 'валюта': 'руб.',\n",
      " 'должность': 'Учитель математики',\n",
      " 'максимальная зарплата': 120000,\n",
      " 'минимальная зарплата': 100000,\n",
      " 'сайт': 'hh.ru',\n",
      " 'ссылка на вакансию': 'https://hh.ru/vacancy/69869635?query=%D0%BC%D0%B0%D1%82%D0%B5%D0%BC%D0%B0%D1%82%D0%B8%D0%BA'}\n",
      "{'_id': ObjectId('63274599ca1755779e0497dc'),\n",
      " 'валюта': 'руб.',\n",
      " 'должность': 'Data scientist',\n",
      " 'максимальная зарплата': 200000,\n",
      " 'минимальная зарплата': 150000,\n",
      " 'сайт': 'hh.ru',\n",
      " 'ссылка на вакансию': 'https://hh.ru/vacancy/69724262?query=%D0%BC%D0%B0%D1%82%D0%B5%D0%BC%D0%B0%D1%82%D0%B8%D0%BA'}\n",
      "{'_id': ObjectId('63274599ca1755779e0497e2'),\n",
      " 'валюта': 'руб.',\n",
      " 'должность': 'Учитель математики и информатики',\n",
      " 'максимальная зарплата': 120000,\n",
      " 'минимальная зарплата': 80000,\n",
      " 'сайт': 'hh.ru',\n",
      " 'ссылка на вакансию': 'https://hh.ru/vacancy/69679659?query=%D0%BC%D0%B0%D1%82%D0%B5%D0%BC%D0%B0%D1%82%D0%B8%D0%BA'}\n",
      "{'_id': ObjectId('63274599ca1755779e0497e8'),\n",
      " 'валюта': 'руб.',\n",
      " 'должность': 'Преподаватель / Разработчик учебно-методических материалов '\n",
      "              '(математика)',\n",
      " 'максимальная зарплата': 150000,\n",
      " 'минимальная зарплата': 100000,\n",
      " 'сайт': 'hh.ru',\n",
      " 'ссылка на вакансию': 'https://hh.ru/vacancy/69822458?query=%D0%BC%D0%B0%D1%82%D0%B5%D0%BC%D0%B0%D1%82%D0%B8%D0%BA'}\n",
      "{'_id': ObjectId('63274599ca1755779e0497f1'),\n",
      " 'валюта': 'руб.',\n",
      " 'должность': 'Преподаватель математики начальной школы / математики и физики '\n",
      "              'средней школы',\n",
      " 'максимальная зарплата': 160000,\n",
      " 'минимальная зарплата': 96000,\n",
      " 'сайт': 'hh.ru',\n",
      " 'ссылка на вакансию': 'https://hh.ru/vacancy/69820828?query=%D0%BC%D0%B0%D1%82%D0%B5%D0%BC%D0%B0%D1%82%D0%B8%D0%BA'}\n"
     ]
    }
   ],
   "source": [
    "for doc in my_db.vacancies.find({'$and': [{'минимальная зарплата':{'$gt': 60000}}, {'максимальная зарплата':{'$gt': 100000}}]}):\n",
    "  pprint(doc)"
   ]
  },
  {
   "cell_type": "code",
   "execution_count": 82,
   "metadata": {
    "executionInfo": {
     "elapsed": 340,
     "status": "ok",
     "timestamp": 1663520492456,
     "user": {
      "displayName": "Lada Zolotuhina",
      "userId": "17805931064849355466"
     },
     "user_tz": -180
    },
    "id": "ULKzi2BmcdiV"
   },
   "outputs": [],
   "source": [
    "def chek_salary(max_salary):\n",
    "    count=0\n",
    "    salary=my_db.vacancies.find({'min_salary':{'$gt':max_salary},'max_salary':{'$gt':max_salary}})\n",
    "    for i in salary:\n",
    "        count+=1\n",
    "        print(i['name'], 'может получать зп больше', max_salary)\n",
    "    return f'найдено {count} подходящих вакансий'\n",
    "    "
   ]
  },
  {
   "cell_type": "code",
   "execution_count": 83,
   "metadata": {
    "colab": {
     "base_uri": "https://localhost:8080/",
     "height": 36
    },
    "executionInfo": {
     "elapsed": 341,
     "status": "ok",
     "timestamp": 1663520497978,
     "user": {
      "displayName": "Lada Zolotuhina",
      "userId": "17805931064849355466"
     },
     "user_tz": -180
    },
    "id": "Q6y2d0QEcvgk",
    "outputId": "3e55478a-6e31-4fb0-9632-517c9b5fafad"
   },
   "outputs": [
    {
     "data": {
      "application/vnd.google.colaboratory.intrinsic+json": {
       "type": "string"
      },
      "text/plain": [
       "'найдено 0 подходящих вакансий'"
      ]
     },
     "execution_count": 83,
     "metadata": {},
     "output_type": "execute_result"
    }
   ],
   "source": [
    "chek_salary(60000)"
   ]
  },
  {
   "cell_type": "markdown",
   "metadata": {
    "id": "4pCQ3fhyiRpo"
   },
   "source": [
    "что-то функции не работают(("
   ]
  },
  {
   "cell_type": "markdown",
   "metadata": {
    "id": "BA1OBJkvddvl"
   },
   "source": [
    "Любая аналитика. Например matching ваканский с разных площадок"
   ]
  },
  {
   "cell_type": "code",
   "execution_count": 67,
   "metadata": {
    "colab": {
     "base_uri": "https://localhost:8080/"
    },
    "executionInfo": {
     "elapsed": 440,
     "status": "ok",
     "timestamp": 1663519371946,
     "user": {
      "displayName": "Lada Zolotuhina",
      "userId": "17805931064849355466"
     },
     "user_tz": -180
    },
    "id": "Qd4BArsBdfe4",
    "outputId": "f78a38b8-8439-402c-8ded-7e784d5ca380"
   },
   "outputs": [
    {
     "name": "stdout",
     "output_type": "stream",
     "text": [
      "{'_id': ObjectId('63274384ca1755779e049779'),\n",
      " 'валюта': 'руб.',\n",
      " 'должность': 'Частный учитель по математике и дз к ученику 6 класса',\n",
      " 'максимальная зарплата': nan,\n",
      " 'минимальная зарплата': 80000.0,\n",
      " 'сайт': 'hh.ru',\n",
      " 'ссылка на вакансию': 'https://hh.ru/vacancy/69232202?query=%D0%BC%D0%B0%D1%82%D0%B5%D0%BC%D0%B0%D1%82%D0%B8%D0%BA'}\n",
      "{'_id': ObjectId('63274384ca1755779e0497ab'),\n",
      " 'валюта': 'руб.',\n",
      " 'должность': 'Частный учитель по математике и дз к ученику 6 класса',\n",
      " 'максимальная зарплата': nan,\n",
      " 'минимальная зарплата': 80000.0,\n",
      " 'сайт': 'hh.ru',\n",
      " 'ссылка на вакансию': 'https://hh.ru/vacancy/69232202?query=%D0%BC%D0%B0%D1%82%D0%B5%D0%BC%D0%B0%D1%82%D0%B8%D0%BA'}\n"
     ]
    }
   ],
   "source": [
    "for doc in my_db.vacancies.find({ 'должность': { \"$regex\": 'учитель'} }):\n",
    "  pprint(doc)"
   ]
  },
  {
   "cell_type": "code",
   "execution_count": 85,
   "metadata": {
    "colab": {
     "base_uri": "https://localhost:8080/"
    },
    "executionInfo": {
     "elapsed": 691,
     "status": "ok",
     "timestamp": 1663520581079,
     "user": {
      "displayName": "Lada Zolotuhina",
      "userId": "17805931064849355466"
     },
     "user_tz": -180
    },
    "id": "vvbyex6xe1Ze",
    "outputId": "6572a7b9-fdb7-42f3-fb08-b0f92b849697"
   },
   "outputs": [
    {
     "name": "stdout",
     "output_type": "stream",
     "text": [
      "{'_id': ObjectId('63274599ca1755779e0497f0'),\n",
      " 'валюта': 'руб.',\n",
      " 'должность': 'Старший преподаватель математики',\n",
      " 'максимальная зарплата': None,\n",
      " 'минимальная зарплата': 55000,\n",
      " 'сайт': 'hh.ru',\n",
      " 'ссылка на вакансию': 'https://hh.ru/vacancy/68642982?query=%D0%BC%D0%B0%D1%82%D0%B5%D0%BC%D0%B0%D1%82%D0%B8%D0%BA'}\n"
     ]
    }
   ],
   "source": [
    "for doc in my_db.vacancies.find({ 'должность': { \"$regex\":'преподаватель' } }):\n",
    "  pprint(doc)"
   ]
  }
 ],
 "metadata": {
  "colab": {
   "authorship_tag": "ABX9TyPFw7AbXkREhmlbRq4yyKLU",
   "collapsed_sections": [],
   "provenance": []
  },
  "kernelspec": {
   "display_name": "Python 3 (ipykernel)",
   "language": "python",
   "name": "python3"
  },
  "language_info": {
   "codemirror_mode": {
    "name": "ipython",
    "version": 3
   },
   "file_extension": ".py",
   "mimetype": "text/x-python",
   "name": "python",
   "nbconvert_exporter": "python",
   "pygments_lexer": "ipython3",
   "version": "3.9.7"
  }
 },
 "nbformat": 4,
 "nbformat_minor": 1
}
