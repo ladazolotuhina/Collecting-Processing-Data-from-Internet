{
 "cells": [
  {
   "cell_type": "markdown",
   "id": "52c9dcbb",
   "metadata": {},
   "source": [
    "Написать приложение или функцию, которые собирают основные новости с сайта на выбор lenta.ru, yandex-новости. Для парсинга использовать XPath.\n",
    "Структура данных в виде словаря должна содержать:\n",
    "- *название источника;\n",
    "- наименование новости;\n",
    "- ссылку на новость;\n",
    "- дата публикации."
   ]
  },
  {
   "cell_type": "code",
   "execution_count": 247,
   "id": "0d9213c3",
   "metadata": {},
   "outputs": [],
   "source": [
    "import requests\n",
    "from pprint import pprint\n",
    "import json\n",
    "from lxml import html"
   ]
  },
  {
   "cell_type": "markdown",
   "id": "dd63e048",
   "metadata": {},
   "source": [
    "#### yandex-новости"
   ]
  },
  {
   "cell_type": "code",
   "execution_count": 248,
   "id": "8d82bc42",
   "metadata": {},
   "outputs": [
    {
     "data": {
      "text/plain": [
       "'https://yandex.ru/news/'"
      ]
     },
     "execution_count": 248,
     "metadata": {},
     "output_type": "execute_result"
    }
   ],
   "source": [
    "url = 'https://yandex.ru/news/'\n",
    "\n",
    "headers = {'User-Agent': 'Mozilla/5.0 (Windows NT 10.0; Win64; x64) AppleWebKit/537.36 (KHTML, like Gecko) Chrome/104.0.0.0 Safari/537.36',\n",
    "          }\n",
    "response = requests.get(url, headers=headers)\n",
    "response.url\n",
    "#response.text"
   ]
  },
  {
   "cell_type": "code",
   "execution_count": 249,
   "id": "17bcd810",
   "metadata": {},
   "outputs": [],
   "source": [
    "dom_1 = html.fromstring(response.text)"
   ]
  },
  {
   "cell_type": "code",
   "execution_count": 250,
   "id": "6383fcdf",
   "metadata": {},
   "outputs": [],
   "source": [
    "yandex_main_news = dom_1.xpath(\"//section[1]/div/div\")"
   ]
  },
  {
   "cell_type": "code",
   "execution_count": 251,
   "id": "b1202920",
   "metadata": {},
   "outputs": [
    {
     "data": {
      "text/plain": [
       "[<Element div at 0x1e55d734770>,\n",
       " <Element div at 0x1e55d721ef0>,\n",
       " <Element div at 0x1e55d721d10>,\n",
       " <Element div at 0x1e55d721e00>,\n",
       " <Element div at 0x1e55d721f90>]"
      ]
     },
     "execution_count": 251,
     "metadata": {},
     "output_type": "execute_result"
    }
   ],
   "source": [
    "yandex_main_news"
   ]
  },
  {
   "cell_type": "code",
   "execution_count": 264,
   "id": "5c828dd9",
   "metadata": {},
   "outputs": [],
   "source": [
    "yandex_main_news_dict = {}\n",
    "\n",
    "for new in yandex_main_news:\n",
    "    \n",
    "    main_news_title = new.xpath(\"//h2/a/text()\")[0]\n",
    "    main_news_source = new.xpath(\".//span/a/text()\")[0]   \n",
    "    main_news_link = url + new.xpath(\".//span/a/@href\")[0]                                 \n",
    "    main_news_time = new.xpath(\".//span[@class='mg-card-source__time']/text()\")[0]\n",
    "    \n",
    "    yandex_main_news_dict[main_news_source] = {\n",
    "        'title': main_news_title,\n",
    "        'link' : main_news_link,\n",
    "        'time' : main_news_time\n",
    "        }\n",
    "                                "
   ]
  },
  {
   "cell_type": "code",
   "execution_count": 265,
   "id": "da53e72c",
   "metadata": {},
   "outputs": [
    {
     "data": {
      "text/plain": [
       "{'РИА Новости': {'title': 'Глава МИД Лиз Трасс станет премьер-министром Великобритании',\n",
       "  'link': 'https://yandex.ru/news/https://yandex.ru/news/story/Sud_priznal_sovetnika_glavy_Roskosmosa_Ivana_Safronova_vinovnym_vgosizmene--650f035421b8ac650690f6f776a753d1?lang=ru&rubric=index&fan=1&stid=7Y6SzYpR9YhM7_Q9&t=1662383976&tt=true&persistent_id=221708261&story=2e87fc4a-4c5c-5189-931d-6a13967f5323',\n",
       "  'time': '16:18'},\n",
       " 'Газета.Ru': {'title': 'Глава МИД Лиз Трасс станет премьер-министром Великобритании',\n",
       "  'link': 'https://yandex.ru/news/https://yandex.ru/news/story/MID_Rossii_soobshhil_ogibeli_dvukh_sotrudnikov_posolstva_vAfganistane_vrezultate_terakta--b1d08d42f95d11e72d64aff14de8b062?lang=ru&rubric=index&fan=1&stid=vYrzegt-3zVIJcJC5hrs&t=1662383976&tt=true&persistent_id=221692774&story=357b5eae-af08-50c7-9802-2055ce4c95bd',\n",
       "  'time': '15:42'},\n",
       " 'ТАСС': {'title': 'Глава МИД Лиз Трасс станет премьер-министром Великобритании',\n",
       "  'link': 'https://yandex.ru/news/https://yandex.ru/news/story/VKHarkovskoj_oblasti_slozhivshie_oruzhie_voennye_VSU_smogut_vernutsya_ksemyam--033a331c53eb4f60565223bf8b7aa28b?lang=ru&rubric=index&fan=1&stid=Wx2lNnK8xn5aC50FoDam&t=1662383976&tt=true&persistent_id=221702507&story=88c42050-4fc5-5c77-b041-8f0df9775e92',\n",
       "  'time': '16:11'}}"
      ]
     },
     "execution_count": 265,
     "metadata": {},
     "output_type": "execute_result"
    }
   ],
   "source": [
    "yandex_main_news_dict"
   ]
  },
  {
   "cell_type": "code",
   "execution_count": 254,
   "id": "0a2a7ffd",
   "metadata": {},
   "outputs": [
    {
     "data": {
      "text/plain": [
       "'https://yandex.ru/news/'"
      ]
     },
     "execution_count": 254,
     "metadata": {},
     "output_type": "execute_result"
    }
   ],
   "source": [
    "dom_2 = html.fromstring(response.text)\n",
    "yandex_all_news = dom_2.xpath(\"//div[@class='mg-card__text-content']/text()\")# на сайте выделяется 64 элемента\n",
    "response.url"
   ]
  },
  {
   "cell_type": "code",
   "execution_count": 284,
   "id": "87040238",
   "metadata": {},
   "outputs": [],
   "source": [
    "yandex_all_news_dict = {}\n",
    "\n",
    "for new in yandex_all_news:\n",
    "    news_source = new.xpath(\".//span[@class='mg-favorites-dot__indicator mg-favorites-dot__indicator_size_s']/a/text()\")[0]\n",
    "    news_title = new.xpath(\"//div/h2/text()\")[0]\n",
    "    news_link = new.xpath(\"//div/h2/a/@href\")                            \n",
    "    news_time = new.xpath(\"./div/div/span[@class='mg-card-source__time']/text()\")\n",
    "     \n",
    "    yandex_all_news_dict[news_source] = {\n",
    "        'title': news_title,\n",
    "        'link' : news_link,\n",
    "        'time' : news_time\n",
    "    }\n",
    "  # не получилось(( что-то пошло не так                            "
   ]
  },
  {
   "cell_type": "code",
   "execution_count": 285,
   "id": "447ca819",
   "metadata": {},
   "outputs": [
    {
     "data": {
      "text/plain": [
       "{}"
      ]
     },
     "execution_count": 285,
     "metadata": {},
     "output_type": "execute_result"
    }
   ],
   "source": [
    "yandex_all_news_dict"
   ]
  },
  {
   "cell_type": "markdown",
   "id": "18ea4c2f",
   "metadata": {},
   "source": [
    "#### lenta.ru"
   ]
  },
  {
   "cell_type": "code",
   "execution_count": 204,
   "id": "c9c192f8",
   "metadata": {},
   "outputs": [
    {
     "data": {
      "text/plain": [
       "'https://lenta.ru/'"
      ]
     },
     "execution_count": 204,
     "metadata": {},
     "output_type": "execute_result"
    }
   ],
   "source": [
    "url = 'https://lenta.ru/'\n",
    "response = requests.get(url, headers=headers)\n",
    "response.url"
   ]
  },
  {
   "cell_type": "code",
   "execution_count": 205,
   "id": "fb8f1c9d",
   "metadata": {},
   "outputs": [],
   "source": [
    "dom_3 = html.fromstring(response.text)\n",
    "lenta_main_news = dom_3.xpath(\"//section/div/div/a[@class='card-mini _compact']\")"
   ]
  },
  {
   "cell_type": "code",
   "execution_count": 237,
   "id": "b3fe5f1b",
   "metadata": {},
   "outputs": [],
   "source": [
    "lenta_main_news_dict = {}\n",
    "\n",
    "for i in lenta_main_news:\n",
    "    news_source = dom_3.xpath(\"//head/title/text()\")[0]\n",
    "    news_name = i.xpath(\".//span/text()\")[0]\n",
    "    news_link = url + i.xpath(\".//@href\")[0] \n",
    "    news_date = (i.xpath(\".//@href\")[0])[6:16] \n",
    "    news_time = dom_3.xpath(\"//section[1]/div/div[@class='topnews']/div/a/div/div/time/text()\")[0]\n",
    "    lenta_main_news_dict[news_name] = {\n",
    "      'источник' : news_source,\n",
    "      'ссылка': news_link,\n",
    "      'дата': news_date,\n",
    "      'время' : news_time\n",
    "  }"
   ]
  },
  {
   "cell_type": "code",
   "execution_count": 238,
   "id": "aeca9e0b",
   "metadata": {},
   "outputs": [
    {
     "data": {
      "text/plain": [
       "{'ВСУ вывели из строя Антоновский мост в Херсоне': {'источник': 'Lenta.ru - Новости России и мира сегодня',\n",
       "  'ссылка': 'https://lenta.ru//news/2022/09/05/most/',\n",
       "  'дата': '2022/09/05',\n",
       "  'время': '15:49'},\n",
       " 'Число погибших туристов на вулкане на Камчатке возросло': {'источник': 'Lenta.ru - Новости России и мира сегодня',\n",
       "  'ссылка': 'https://lenta.ru//news/2022/09/05/kamchatka_death/',\n",
       "  'дата': '2022/09/05',\n",
       "  'время': '15:49'},\n",
       " 'Умер советский двукратный олимпийский чемпион по боксу': {'источник': 'Lenta.ru - Новости России и мира сегодня',\n",
       "  'ссылка': 'https://lenta.ru//news/2022/09/05/rip/',\n",
       "  'дата': '2022/09/05',\n",
       "  'время': '15:49'},\n",
       " 'МИД подтвердил гибель двух сотрудников посольства России из-за теракта в Кабуле': {'источник': 'Lenta.ru - Новости России и мира сегодня',\n",
       "  'ссылка': 'https://lenta.ru//news/2022/09/05/forliberty/',\n",
       "  'дата': '2022/09/05',\n",
       "  'время': '15:49'},\n",
       " 'Около посольства России в Кабуле произошел взрыв': {'источник': 'Lenta.ru - Новости России и мира сегодня',\n",
       "  'ссылка': 'https://lenta.ru//news/2022/09/05/kabul_posolstvo/',\n",
       "  'дата': '2022/09/05',\n",
       "  'время': '15:49'},\n",
       " 'В Кремле назвали предмет переговоров с Киевом': {'источник': 'Lenta.ru - Новости России и мира сегодня',\n",
       "  'ссылка': 'https://lenta.ru//news/2022/09/05/peskov_peregovory/',\n",
       "  'дата': '2022/09/05',\n",
       "  'время': '15:49'},\n",
       " 'Посол США в России ушел с должности': {'источник': 'Lenta.ru - Новости России и мира сегодня',\n",
       "  'ссылка': 'https://lenta.ru//news/2022/09/05/sullivan/',\n",
       "  'дата': '2022/09/05',\n",
       "  'время': '15:49'}}"
      ]
     },
     "execution_count": 238,
     "metadata": {},
     "output_type": "execute_result"
    }
   ],
   "source": [
    "lenta_main_news_dict"
   ]
  },
  {
   "cell_type": "code",
   "execution_count": 242,
   "id": "2d55cae8",
   "metadata": {},
   "outputs": [],
   "source": [
    "lenta_main_news_dict = {}\n",
    "\n",
    "for new in lenta_main_news:\n",
    "    news_source = dom_3.xpath(\"//head/title/text()\")[0]\n",
    "    news_title = new.xpath(\".//span/text()\")[0]\n",
    "    news_link = url + new.xpath(\".//@href\")[0] \n",
    "    news_date = (new.xpath(\".//@href\")[0])[6:16] \n",
    "    news_time = dom_3.xpath(\"//section[1]/div/div[@class='topnews']/div/a/div/div/time/text()\")[0]\n",
    "    lenta_main_news_dict[news_source] = {\n",
    "      'заголовок' : news_title, # если поменять местами заголовок и источник, то сразу выдает только одну новость\n",
    "      'ссылка': news_link,\n",
    "      'дата': news_date,\n",
    "      'время' : news_time\n",
    "  }"
   ]
  },
  {
   "cell_type": "code",
   "execution_count": 243,
   "id": "c4687065",
   "metadata": {},
   "outputs": [
    {
     "data": {
      "text/plain": [
       "{'Lenta.ru - Новости России и мира сегодня': {'заголовок': 'Посол США в России ушел с должности',\n",
       "  'ссылка': 'https://lenta.ru//news/2022/09/05/sullivan/',\n",
       "  'дата': '2022/09/05',\n",
       "  'время': '15:49'}}"
      ]
     },
     "execution_count": 243,
     "metadata": {},
     "output_type": "execute_result"
    }
   ],
   "source": [
    "lenta_main_news_dict"
   ]
  },
  {
   "cell_type": "code",
   "execution_count": null,
   "id": "bd2f7e1f",
   "metadata": {},
   "outputs": [],
   "source": []
  }
 ],
 "metadata": {
  "kernelspec": {
   "display_name": "Python 3 (ipykernel)",
   "language": "python",
   "name": "python3"
  },
  "language_info": {
   "codemirror_mode": {
    "name": "ipython",
    "version": 3
   },
   "file_extension": ".py",
   "mimetype": "text/x-python",
   "name": "python",
   "nbconvert_exporter": "python",
   "pygments_lexer": "ipython3",
   "version": "3.9.7"
  }
 },
 "nbformat": 4,
 "nbformat_minor": 5
}
